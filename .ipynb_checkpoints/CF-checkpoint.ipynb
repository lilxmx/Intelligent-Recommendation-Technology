{
 "cells": [
  {
   "cell_type": "markdown",
   "id": "6de9ae2a",
   "metadata": {},
   "source": [
    "## 基于用户的协同过滤 UCF"
   ]
  },
  {
   "cell_type": "markdown",
   "id": "b003c15d",
   "metadata": {},
   "source": [
    "协同过滤类算法有三个关键问题，分别是：  \n",
    "1. 如何计算相似度，用户与用户、物品与物品间的\n",
    "2. 如何选择最相近的K个用户或者物品\n",
    "3. 如何基于相近用户或物品预测当前评分"
   ]
  },
  {
   "cell_type": "code",
   "execution_count": 1,
   "id": "fd4f001f",
   "metadata": {},
   "outputs": [],
   "source": [
    "import matplotlib.pyplot as plt\n",
    "import pandas as pd\n",
    "import numpy as np\n",
    "import math\n",
    "from tqdm import tqdm"
   ]
  },
  {
   "cell_type": "code",
   "execution_count": 2,
   "id": "0122434b",
   "metadata": {},
   "outputs": [],
   "source": [
    "# 每个用户的评分的平均值\n",
    "u_r_averages = {}\n",
    "# 每个用户评分过的电影ID\n",
    "u_r_items = {}\n",
    "#每个电影评分过的用户id列表\n",
    "item_rating_lists = {}\n",
    "all_data = pd.read_csv(\"datasets/ml-100k/u.data\",sep='\\t',names=['uid','iid','rating','time'])\n",
    "train_data = pd.read_csv(\"datasets/ml-100k/u1.base\",sep='\\t',names=['uid','iid','rating','time'])\n",
    "test_data = pd.read_csv(\"datasets/ml-100k/u1.test\",sep='\\t',names=['uid','iid','rating','time'])"
   ]
  },
  {
   "cell_type": "code",
   "execution_count": 3,
   "id": "a03ff6d8",
   "metadata": {},
   "outputs": [],
   "source": [
    "for i,group in train_data.groupby('uid'):\n",
    "    u_r_averages[i] = group['rating'].mean()\n",
    "    u_r_items[i] = set(group['iid'])\n",
    "# 建立倒排表：电影->用户\n",
    "for i,group in train_data.groupby('iid'):\n",
    "    item_rating_lists[i] = set(group['uid'])"
   ]
  },
  {
   "cell_type": "code",
   "execution_count": 22,
   "id": "fe9f1d97",
   "metadata": {},
   "outputs": [],
   "source": [
    "ratings = {}\n",
    "for i,group in train_data.groupby('uid'):\n",
    "    rating_dict = dict(zip(group['iid'], group['rating']))\n",
    "    ratings[i] = rating_dict"
   ]
  },
  {
   "cell_type": "code",
   "execution_count": 31,
   "id": "3f276ad0",
   "metadata": {},
   "outputs": [],
   "source": [
    "rating_arr = [[0]*1682 for i in range(943)]\n",
    "for i,group in train_data.groupby('uid'):\n",
    "    arr = zip(group['iid'], group['rating'])\n",
    "    for pair in arr:\n",
    "        rating_arr[i-1][pair[0]-1] = pair[1]"
   ]
  },
  {
   "cell_type": "code",
   "execution_count": 5,
   "id": "9710e22d",
   "metadata": {},
   "outputs": [],
   "source": [
    "test_iid_set = set(test_data['iid'])\n",
    "train_iid_set = set(train_data['iid'])"
   ]
  },
  {
   "cell_type": "code",
   "execution_count": 6,
   "id": "3b7f2dc0",
   "metadata": {},
   "outputs": [],
   "source": [
    "new_item_set = test_iid_set - train_iid_set"
   ]
  },
  {
   "cell_type": "markdown",
   "id": "2d307a96",
   "metadata": {},
   "source": [
    "### PCC计算，皮尔逊相关系数\n",
    "改进思路：  \n",
    "1：对于热门物品，若两个用户评分相近，则其权值应该较低，若两个用户对一个冷门物品评分相近，则权值较高  \n",
    "2：若两个用户co-rated item较少，则整个相似度的置信度应该较低"
   ]
  },
  {
   "cell_type": "code",
   "execution_count": 73,
   "id": "836a1379",
   "metadata": {
    "scrolled": true
   },
   "outputs": [],
   "source": [
    "'''\n",
    "ratings列表：是评分表， ratings[i][j]表示用户ID=i+1对电影ID=j+1的评分\n",
    "u_r_items字典：每个用户评分过的电影ID\n",
    "u_r_averages字典：每个用户的评分的平均值\n",
    "''' \n",
    "def pcc(ratings, u_r_items, u_r_averages, user_num):\n",
    "    user_set = u_r_averages.keys()\n",
    "    pcc_arr = [[0]*user_num for _ in range(user_num)]\n",
    "    for uid in tqdm(user_set):\n",
    "        # uid 和 pair表示此时计算这两个用户的PCC\n",
    "        for pair in user_set:\n",
    "            # 最终形成一个长宽为用户数的矩阵\n",
    "            if uid == pair:\n",
    "                continue\n",
    "            if pcc_arr[pair-1][uid-1] != 0:\n",
    "                pcc_arr[uid-1][pair-1] = pcc_arr[pair-1][uid-1]\n",
    "                continue\n",
    "            Numerator = 0\n",
    "            denominator_one = 0\n",
    "            denominator_two = 0\n",
    "            common_rating_items = u_r_items.get(uid) & u_r_items.get(pair)\n",
    "            for iid in common_rating_items:\n",
    "                uid_rating = ratings.get(uid).get(iid)\n",
    "                pair_rating = ratings.get(pair).get(iid)\n",
    "                bias_uid = uid_rating - u_r_averages.get(uid)\n",
    "                bias_pair = pair_rating - u_r_averages.get(pair)\n",
    "                # 分子\n",
    "                Numerator += (bias_uid * bias_pair)\n",
    "                # 分母\n",
    "                denominator_one += pow(bias_uid,2)\n",
    "                denominator_two += pow(bias_pair,2)\n",
    "            denominator_one = math.sqrt(denominator_one)\n",
    "            denominator_two = math.sqrt(denominator_two)\n",
    "            if denominator_one==0 or denominator_two == 0:\n",
    "                continue\n",
    "            pcc_value = Numerator / (denominator_one * denominator_two)\n",
    "            # 这里可能有一些值略微大于1，例如1.000000002\n",
    "            if abs(pcc_value) > 1:\n",
    "                pcc_value = int(pcc_value)\n",
    "            pcc_arr[uid-1][pair-1] = pcc_value\n",
    "    return pcc_arr"
   ]
  },
  {
   "cell_type": "markdown",
   "id": "9dab347d",
   "metadata": {},
   "source": [
    "## 邻居选择\n",
    "改进思路：假设K为20，如果前18个相似度较高，但最后2个较低，可以舍去最后2个，即设置一个相似度阈值，与K一起作用"
   ]
  },
  {
   "cell_type": "code",
   "execution_count": 74,
   "id": "7d18f5a0",
   "metadata": {
    "scrolled": true
   },
   "outputs": [],
   "source": [
    "'''\n",
    "pcc_arr 列表：pcc_arr[i][j] 表示用户ID=i+1与用户ID=j+1 的相关系数，只记录了上半三角，必须从小索引先开始\n",
    "item_rating_lists字典：item_rating_lists[i]表示对电影ID=i评分过的用户ID集合\n",
    "'''\n",
    "def ucf_neigh_select(pcc_arr,item_rating_lists, k, uid, iid):\n",
    "    recList = {}\n",
    "    # 对电影iid评过分的用户ID，从1开始的\n",
    "    item_rated_users = item_rating_lists.get(iid)\n",
    "    # 和用户uid的PCC不等于0的用户ID集合，从1开始的\n",
    "    pcc_non_zero = set([index+1 for index, value in enumerate(pcc_arr[uid-1]) if value != 0])\n",
    "    if item_rated_users==None:\n",
    "        item_rated_users = set()\n",
    "    # 正常的用户ID，从1开始。这里已经排除了自身\n",
    "    common_users = item_rated_users & pcc_non_zero\n",
    "    if len(common_users)==0:\n",
    "        return dict()\n",
    "    # 选择这里面pcc最高的K个用户\n",
    "    for i in common_users:\n",
    "        # 因为PCC矩阵只保留了上三角，所以要从小的下标开始索引\n",
    "        small_id = min(uid,i)\n",
    "        big_id = max(uid,i)\n",
    "        recList[i] = pcc_arr[small_id-1][big_id-1]\n",
    "    topK = dict(sorted(recList.items(), key=lambda x: x[1],reverse = True))\n",
    "    if len(topK) > k:\n",
    "        return dict(list(topK.items())[:k])\n",
    "    else:\n",
    "        return topK"
   ]
  },
  {
   "cell_type": "markdown",
   "id": "42dbe336",
   "metadata": {},
   "source": [
    "## 验证函数"
   ]
  },
  {
   "cell_type": "code",
   "execution_count": 75,
   "id": "234cb893",
   "metadata": {},
   "outputs": [],
   "source": [
    "def testUCF(path, pcc_arr, item_rating_lists, k):\n",
    "    predicts = []\n",
    "    targets = []\n",
    "    with open(path, \"r\") as file:\n",
    "        lines = file.readlines()\n",
    "        for i in range(len(lines)):\n",
    "            predict_u_r = 0\n",
    "            user_bias = 0\n",
    "            sum_pcc = 0\n",
    "            uid = int(lines[i].split()[0])\n",
    "            iid = int(lines[i].split()[1])\n",
    "            # 冷启动处理，测试集中的物品在训练集没有出现过，则跳过该物品的评分预测\n",
    "            if iid in new_item_set:\n",
    "                continue\n",
    "            target_rating = int(lines[i].split()[2])\n",
    "            user_rating_average = u_r_averages.get(uid)\n",
    "            \n",
    "            top_k_dict = ucf_neigh_select(pcc_arr, item_rating_lists, k, uid, iid)\n",
    "            if len(top_k_dict) == 0:\n",
    "                predict_u_r = user_rating_average\n",
    "            else:\n",
    "                for userId,pcc in top_k_dict.items():\n",
    "                    user_bias += ((ratings.get(userId).get(iid) - u_r_averages.get(userId)) * pcc)\n",
    "                    sum_pcc += abs(pcc)\n",
    "                user_bias = user_bias / (sum_pcc)\n",
    "                predict_u_r = user_rating_average + user_bias\n",
    "            # 后处理过程\n",
    "            if predict_u_r > 5:\n",
    "                predict_u_r = 5\n",
    "            if predict_u_r < 1:\n",
    "                predict_u_r = 1\n",
    "            \n",
    "            predicts.append(predict_u_r)\n",
    "            targets.append(target_rating)\n",
    "    return targets,predicts"
   ]
  },
  {
   "cell_type": "code",
   "execution_count": 76,
   "id": "8f3dc9d8",
   "metadata": {
    "scrolled": false
   },
   "outputs": [
    {
     "name": "stderr",
     "output_type": "stream",
     "text": [
      "100%|████████████████████████████████████████████████████████████████████████████████| 943/943 [00:16<00:00, 55.80it/s]\n"
     ]
    }
   ],
   "source": [
    "similar_arr = pcc(ratings, u_r_items, u_r_averages,943)\n",
    "a,b = testUCF(\"datasets/ml-100k/u1.test\", similar_arr, item_rating_lists, 50)"
   ]
  },
  {
   "cell_type": "code",
   "execution_count": 77,
   "id": "75408ff1",
   "metadata": {},
   "outputs": [
    {
     "name": "stdout",
     "output_type": "stream",
     "text": [
      "MSE=0.9593980546166095\n",
      "MAE=0.7512916799490055\n"
     ]
    }
   ],
   "source": [
    "from sklearn.metrics import mean_squared_error,mean_absolute_error\n",
    "print('MSE={}'.format(math.sqrt(mean_squared_error(a,b))))\n",
    "print('MAE={}'.format(mean_absolute_error(a,b)))"
   ]
  },
  {
   "cell_type": "markdown",
   "id": "2b5b1037",
   "metadata": {},
   "source": [
    "### ICF"
   ]
  },
  {
   "cell_type": "markdown",
   "id": "52bd90de",
   "metadata": {},
   "source": [
    "## ACS （adjusted cosine similarity）经过调整的余弦相似度"
   ]
  },
  {
   "cell_type": "code",
   "execution_count": 67,
   "id": "e2eea3dd",
   "metadata": {},
   "outputs": [],
   "source": [
    "'''\n",
    "ratings列表：是评分表， ratings[i][j]表示用户ID=i+1对电影ID=j+1的评分\n",
    "item_rating_lists：每个电影评分过的用户ID\n",
    "u_r_averages字典：每个用户的评分的平均值\n",
    "''' \n",
    "def acs(ratings, item_rating_lists, u_r_averages, item_num):\n",
    "    iid_set = item_rating_lists.keys()\n",
    "    acs_arr = [[1]*item_num for _ in range(item_num)]\n",
    "    for k in tqdm(iid_set):\n",
    "        for j in iid_set:\n",
    "            if k == j:\n",
    "                continue\n",
    "            # 如果另一对已经做过，则不用去做了    \n",
    "            if acs_arr[j-1][k-1] != 1:\n",
    "                acs_arr[k-1][j-1] = acs_arr[j-1][k-1]\n",
    "                continue\n",
    "            numerator = 0\n",
    "            denominator_one = 0\n",
    "            denominator_two = 0\n",
    "            common_rating_users = item_rating_lists.get(k) & item_rating_lists.get(j)\n",
    "            for uid in common_rating_users:\n",
    "                bias_k = ratings.get(uid).get(k) - u_r_averages.get(uid)\n",
    "                bias_j = ratings.get(uid).get(j) - u_r_averages.get(uid)\n",
    "                numerator += round(bias_k * bias_j,4)\n",
    "                denominator_one += round(bias_k * bias_k,4)\n",
    "                denominator_two += round(bias_j * bias_j,4)\n",
    "            denominator_one = math.sqrt(denominator_one)\n",
    "            denominator_two = math.sqrt(denominator_two)\n",
    "            if denominator_one == 0 or denominator_two == 0:\n",
    "                    continue\n",
    "            acs_value = numerator / round(denominator_one * denominator_two,4)\n",
    "            # acs 值在[-1，1]区间            \n",
    "            if abs(acs_value) > 1:\n",
    "                acs_value = int(acs_value)\n",
    "            acs_arr[k-1][j-1] = acs_value\n",
    "    return acs_arr"
   ]
  },
  {
   "cell_type": "code",
   "execution_count": 8,
   "id": "c8dcb3d4",
   "metadata": {},
   "outputs": [],
   "source": [
    "'''\n",
    "acs_arr 列表：acs_arr[k][j] 表示物品k与物品j的相关系数，只记录了上半三角，必须从小索引先开始k<j\n",
    "item_rating_lists字典：item_rating_lists[i]表示对电影ID=i评分过的用户ID集合\n",
    "'''\n",
    "def icf_neigh_select(acs_arr,u_r_items, k, uid, iid):\n",
    "    recList = {}\n",
    "    # 用户评过分的物品\n",
    "    user_rated_items = u_r_items.get(uid)\n",
    "    # 和物品iid的ACS不等于0的物品ID集合，从1开始的\n",
    "    acs_non_zero = set([index+1 for index, value in enumerate(acs_arr[iid-1]) if value != 0])\n",
    "    if user_rated_items == None:\n",
    "        user_rated_items = set()\n",
    "    common_items = user_rated_items & acs_non_zero\n",
    "    if len(common_items)==0:\n",
    "        return dict()\n",
    "    for i in common_items:\n",
    "        # 因为相似度矩阵只保留了上三角，所以要从小的下标开始索引\n",
    "        small_id = min(iid,i)\n",
    "        big_id = max(iid,i)\n",
    "        recList[i] = acs_arr[small_id-1][big_id-1]\n",
    "    topK = dict(sorted(recList.items(), key=lambda x: x[1],reverse = True))\n",
    "    if len(topK) > k:\n",
    "        return dict(list(topK.items())[:k])\n",
    "    else:\n",
    "        return topK"
   ]
  },
  {
   "cell_type": "code",
   "execution_count": 9,
   "id": "5547fac4",
   "metadata": {},
   "outputs": [],
   "source": [
    "def testICF(path, acs_arr, u_r_items, k):\n",
    "    predicts = []\n",
    "    targets = []\n",
    "    with open(path, \"r\") as file:\n",
    "        lines = file.readlines()\n",
    "        for i in range(len(lines)):\n",
    "            predict_u_r = 0\n",
    "            user_bias = 0\n",
    "            sum_acs = 0\n",
    "            uid = int(lines[i].split()[0])\n",
    "            iid = int(lines[i].split()[1])\n",
    "#             if iid in setC:\n",
    "#                 continue\n",
    "            target_rating = int(lines[i].split()[2])\n",
    "            user_rating_average = u_r_averages.get(uid)\n",
    "            \n",
    "            top_k_dict = icf_neigh_select(acs_arr, u_r_items, k, uid, iid)\n",
    "            if len(top_k_dict) == 0:\n",
    "                predict_u_r = user_rating_average\n",
    "            else:\n",
    "                for item_id,acs in top_k_dict.items():\n",
    "                    user_bias += ratings.get(uid).get(item_id) * acs\n",
    "                    sum_acs += acs\n",
    "                # uid=130 iid=1273 top_k_dict = {1278: 1.0, 1279: -1.0}\n",
    "                if sum_acs == 0:\n",
    "                    print(uid,iid,top_k_dict)\n",
    "                    continue\n",
    "                user_bias = user_bias / (sum_acs)\n",
    "                predict_u_r = user_bias\n",
    "            # 后处理过程\n",
    "            if predict_u_r > 5:\n",
    "                predict_u_r = 5\n",
    "            if predict_u_r < 1:\n",
    "                predict_u_r = 1\n",
    "            \n",
    "            predicts.append(predict_u_r)\n",
    "            targets.append(target_rating)\n",
    "    return targets,predicts"
   ]
  },
  {
   "cell_type": "code",
   "execution_count": 68,
   "id": "20e4347c",
   "metadata": {
    "scrolled": true
   },
   "outputs": [
    {
     "name": "stderr",
     "output_type": "stream",
     "text": [
      "100%|██████████████████████████████████████████████████████████████████████████████| 1650/1650 [00:19<00:00, 83.15it/s]\n"
     ]
    }
   ],
   "source": [
    "similar_arr = acs(ratings, item_rating_lists, u_r_averages, 1682)\n",
    "# a,b = testICF(\"datasets/ml-100k/u1.test\", similar_arr, u_r_items, 50)"
   ]
  },
  {
   "cell_type": "code",
   "execution_count": 11,
   "id": "5364e62c",
   "metadata": {},
   "outputs": [],
   "source": [
    "from sklearn.metrics.pairwise import cosine_similarity"
   ]
  },
  {
   "cell_type": "markdown",
   "id": "7e5f1b6c",
   "metadata": {},
   "source": [
    "返回数组的第i行第j列表示a[i]与a[j]的余弦相似度"
   ]
  },
  {
   "cell_type": "code",
   "execution_count": 41,
   "id": "556b3146",
   "metadata": {},
   "outputs": [],
   "source": [
    "# a=[[1,3,2],[2,2,1]]\n",
    "transposed_matrix = list(map(list, zip(*rating_arr)))\n",
    "result = cosine_similarity(transposed_matrix)"
   ]
  },
  {
   "cell_type": "code",
   "execution_count": 70,
   "id": "c93c0078",
   "metadata": {},
   "outputs": [
    {
     "data": {
      "text/plain": [
       "1"
      ]
     },
     "execution_count": 70,
     "metadata": {},
     "output_type": "execute_result"
    }
   ],
   "source": [
    "similar_arr[0][0]"
   ]
  },
  {
   "cell_type": "code",
   "execution_count": 62,
   "id": "f2b1e1a4",
   "metadata": {},
   "outputs": [
    {
     "name": "stdout",
     "output_type": "stream",
     "text": [
      "0.3576463770676817\n"
     ]
    }
   ],
   "source": [
    "import numpy as np\n",
    "vec1 = np.array(transposed_matrix[0])\n",
    "vec2 = np.array(transposed_matrix[1])\n",
    "\n",
    "cos_sim = vec1.dot(vec2) / (np.linalg.norm(vec1) * np.linalg.norm(vec2))\n",
    "print(cos_sim)"
   ]
  },
  {
   "cell_type": "code",
   "execution_count": 59,
   "id": "473a495f",
   "metadata": {},
   "outputs": [],
   "source": [
    "a,b = testICF(\"datasets/ml-100k/u1.test\", result, u_r_items, 50)"
   ]
  },
  {
   "cell_type": "code",
   "execution_count": 60,
   "id": "0a755521",
   "metadata": {},
   "outputs": [
    {
     "name": "stdout",
     "output_type": "stream",
     "text": [
      "MSE=1.0129505102076473\n",
      "MAE=0.7953095140729466\n"
     ]
    }
   ],
   "source": [
    "from sklearn.metrics import mean_squared_error,mean_absolute_error\n",
    "print('MSE={}'.format(math.sqrt(mean_squared_error(a,b))))\n",
    "print('MAE={}'.format(mean_absolute_error(a,b)))"
   ]
  }
 ],
 "metadata": {
  "kernelspec": {
   "display_name": "rec_course",
   "language": "python",
   "name": "rec_course"
  },
  "language_info": {
   "codemirror_mode": {
    "name": "ipython",
    "version": 3
   },
   "file_extension": ".py",
   "mimetype": "text/x-python",
   "name": "python",
   "nbconvert_exporter": "python",
   "pygments_lexer": "ipython3",
   "version": "3.8.19"
  }
 },
 "nbformat": 4,
 "nbformat_minor": 5
}
